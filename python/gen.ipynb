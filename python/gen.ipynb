{
 "cells": [
  {
   "cell_type": "code",
   "execution_count": 1,
   "metadata": {},
   "outputs": [],
   "source": [
    "import networkx as nx\n",
    "import numpy as np\n",
    "import random\n",
    "import matplotlib.pyplot as plt"
   ]
  },
  {
   "cell_type": "code",
   "execution_count": 2,
   "metadata": {},
   "outputs": [],
   "source": [
    "# Generate config file\n",
    "def config_write(G, filename):\n",
    "    edges = list(G.edges)\n",
    "    cfg = []\n",
    "    cfg.append(str(len(G)) + '\\n')\n",
    "    cfg.append(str(len(edges)) + '\\n')\n",
    "    for i in range(len(edges)):\n",
    "        cfg.append(str(edges[i][0]) + '-' + str(edges[i][1]) + '\\n')\n",
    "\n",
    "    f = open(filename, 'w+')\n",
    "    f.writelines(cfg)\n",
    "    f.close()\n",
    "\n",
    "def component(n,p):\n",
    "    largest_cc =[]\n",
    "    bridge=True\n",
    "    while len(largest_cc)!=n or bridge:\n",
    "        Graph=nx.fast_gnp_random_graph(n,p)\n",
    "        largest_cc = max(nx.connected_components(Graph), key=len)\n",
    "        bridge=nx.has_bridges(Graph)\n",
    "    return(Graph)"
   ]
  },
  {
   "cell_type": "code",
   "execution_count": 4,
   "metadata": {},
   "outputs": [
    {
     "data": {
      "image/png": "[encoded data removed]",
      "text/plain": [
       "<Figure size 432x288 with 1 Axes>"
      ]
     },
     "metadata": {},
     "output_type": "display_data"
    }
   ],
   "source": [
    "# LINEAR FORMATION\n",
    "#The bottleneck node is labeled as the number of nodes entered-1\n",
    "num_cluster = 3\n",
    "node_per_cluster = 5\n",
    "p = 0.9\n",
    "nw = []\n",
    "for i in range(num_cluster):\n",
    "    nw.append(component(node_per_cluster,p))\n",
    "\n",
    "#Shift the numbering of the second graph\n",
    "mapping = [{} for i in range(num_cluster-1)]\n",
    "for i in range(node_per_cluster):\n",
    "    for j in range(num_cluster-1):\n",
    "        mapping[j][i] = i + node_per_cluster*(j+1)\n",
    "\n",
    "# Relabling nodes\n",
    "for i in range(num_cluster-1):\n",
    "    nw[i+1] = nx.relabel_nodes(nw[i+1], mapping[i])\n",
    "\n",
    "# Connect graphs\n",
    "G = nx.compose(nw[0], nw[1])\n",
    "for i in range(2, num_cluster):\n",
    "    G = nx.compose(G, nw[i])\n",
    "\n",
    "# add bottle neck edge\n",
    "for i in range(1, num_cluster):\n",
    "    G.add_edge(i*node_per_cluster-1, i*node_per_cluster)\n",
    "\n",
    "# draw network\n",
    "nx.draw_networkx(G)\n",
    "plt.savefig('../graphs/line3.png')\n",
    "plt.show()\n",
    "\n",
    "# write network to config file\n",
    "config_write(G,'../config_files/line3.cfg')"
   ]
  },
  {
   "cell_type": "code",
   "execution_count": null,
   "metadata": {},
   "outputs": [],
   "source": []
  }
 ],
 "metadata": {
  "kernelspec": {
   "display_name": "Python 3",
   "language": "python",
   "name": "python3"
  },
  "language_info": {
   "codemirror_mode": {
    "name": "ipython",
    "version": 3
   },
   "file_extension": ".py",
   "mimetype": "text/x-python",
   "name": "python",
   "nbconvert_exporter": "python",
   "pygments_lexer": "ipython3",
   "version": "3.7.5"
  }
 },
 "nbformat": 4,
 "nbformat_minor": 4
}
